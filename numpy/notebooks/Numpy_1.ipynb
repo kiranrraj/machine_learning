{
 "cells": [
  {
   "cell_type": "code",
   "execution_count": 1,
   "id": "d1e9773b",
   "metadata": {},
   "outputs": [],
   "source": [
    "import numpy as np"
   ]
  },
  {
   "cell_type": "markdown",
   "id": "6b18254e",
   "metadata": {},
   "source": [
    "1. ndim will tell you the number of axes (dimensions) of an array.\n",
    "\n",
    "2. size will tell you the total number of elements of the array, which is the product of the elements of the array’s shape.\n",
    "\n",
    "3. shape will display a tuple of integers that indicate the number of elements in each dimension of the array. "
   ]
  },
  {
   "cell_type": "code",
   "execution_count": 2,
   "id": "67f6feef",
   "metadata": {},
   "outputs": [
    {
     "name": "stdout",
     "output_type": "stream",
     "text": [
      "[10 20 30 40 50]\n",
      "Ndim: 1\n",
      "Size 5\n",
      "Shape (5,)\n"
     ]
    }
   ],
   "source": [
    "arr1 = np.array([10, 20, 30, 40, 50])\n",
    "print(arr1)\n",
    "print(\"Ndim:\",arr1.ndim)\n",
    "print(\"Size\",arr1.size)\n",
    "print(\"Shape\",arr1.shape)"
   ]
  },
  {
   "cell_type": "code",
   "execution_count": 3,
   "id": "c1d723b9",
   "metadata": {},
   "outputs": [
    {
     "name": "stdout",
     "output_type": "stream",
     "text": [
      "[[1 2 3]\n",
      " [4 5 6]]\n",
      "Ndim: 2\n",
      "Size 6\n",
      "Shape (2, 3)\n"
     ]
    }
   ],
   "source": [
    "arr1 = np.array([[1,2,3], [4,5,6]])\n",
    "print(arr1)\n",
    "print(\"Ndim:\",arr1.ndim)\n",
    "print(\"Size\",arr1.size)\n",
    "print(\"Shape\",arr1.shape)"
   ]
  },
  {
   "cell_type": "code",
   "execution_count": 4,
   "id": "351514d1",
   "metadata": {},
   "outputs": [
    {
     "name": "stdout",
     "output_type": "stream",
     "text": [
      "[[[ 1  2  3]\n",
      "  [ 4  5  6]]\n",
      "\n",
      " [[11 12 13]\n",
      "  [14 15 16]]\n",
      "\n",
      " [[21 22 23]\n",
      "  [24 25 26]]]\n",
      "Ndim: 3\n",
      "Size 18\n",
      "Shape (3, 2, 3)\n"
     ]
    }
   ],
   "source": [
    "arr1 = np.array([[[1,2,3],[4,5,6]],[[11,12,13],[14,15,16]],[[21,22,23],[24,25,26]]])\n",
    "print(arr1)\n",
    "print(\"Ndim:\",arr1.ndim)\n",
    "print(\"Size\",arr1.size)\n",
    "print(\"Shape\",arr1.shape)"
   ]
  },
  {
   "cell_type": "code",
   "execution_count": 5,
   "id": "38b6e84c",
   "metadata": {},
   "outputs": [
    {
     "name": "stdout",
     "output_type": "stream",
     "text": [
      "20\n"
     ]
    }
   ],
   "source": [
    "# To access an array element\n",
    "arr1 = np.array([10, 20, 30, 40, 50])\n",
    "print(arr1[1])"
   ]
  },
  {
   "cell_type": "code",
   "execution_count": 6,
   "id": "20c31e34",
   "metadata": {},
   "outputs": [
    {
     "name": "stdout",
     "output_type": "stream",
     "text": [
      "4\n"
     ]
    }
   ],
   "source": [
    "# To access an array element\n",
    "arr1 = np.array([[1,2,3], [4,5,6]])\n",
    "print(arr1[1,0])"
   ]
  },
  {
   "cell_type": "code",
   "execution_count": 7,
   "id": "212d4555",
   "metadata": {},
   "outputs": [
    {
     "name": "stdout",
     "output_type": "stream",
     "text": [
      "1\n"
     ]
    }
   ],
   "source": [
    "# To access an array element\n",
    "arr1 = np.array([[[1,2,3],[4,5,6]],[[11,12,13],[14,15,16]],[[21,22,23],[24,25,26]]])\n",
    "print(arr1[0,0,0])"
   ]
  },
  {
   "cell_type": "code",
   "execution_count": 8,
   "id": "9d7dd327",
   "metadata": {},
   "outputs": [
    {
     "name": "stdout",
     "output_type": "stream",
     "text": [
      "26\n"
     ]
    }
   ],
   "source": [
    "# To access an array element\n",
    "arr1 = np.array([[[1,2,3],[4,5,6]],[[11,12,13],[14,15,16]],[[21,22,23],[24,25,26]]])\n",
    "print(arr1[-1,-1,-1])"
   ]
  },
  {
   "cell_type": "code",
   "execution_count": 9,
   "id": "a259b18d",
   "metadata": {},
   "outputs": [
    {
     "name": "stdout",
     "output_type": "stream",
     "text": [
      "[24 25 26]\n"
     ]
    }
   ],
   "source": [
    "# To access an array element\n",
    "arr1 = np.array([[[1,2,3],[4,5,6]],[[11,12,13],[14,15,16]],[[21,22,23],[24,25,26]]])\n",
    "print(arr1[-1,-1])"
   ]
  },
  {
   "cell_type": "code",
   "execution_count": 10,
   "id": "b721803a",
   "metadata": {},
   "outputs": [
    {
     "name": "stdout",
     "output_type": "stream",
     "text": [
      "[1 2 3]\n"
     ]
    }
   ],
   "source": [
    "# To access an array element\n",
    "arr1 = np.array([[[1,2,3],[4,5,6]],[[11,12,13],[14,15,16]],[[21,22,23],[24,25,26]]])\n",
    "print(arr1[0,0])"
   ]
  },
  {
   "cell_type": "code",
   "execution_count": 11,
   "id": "9760fc23",
   "metadata": {},
   "outputs": [
    {
     "name": "stdout",
     "output_type": "stream",
     "text": [
      "[[1 2 3]\n",
      " [4 5 6]]\n"
     ]
    }
   ],
   "source": [
    "# To access an array element\n",
    "arr1 = np.array([[[1,2,3],[4,5,6]],[[11,12,13],[14,15,16]],[[21,22,23],[24,25,26]]])\n",
    "print(arr1[0])"
   ]
  },
  {
   "cell_type": "code",
   "execution_count": 12,
   "id": "9c519b1d",
   "metadata": {},
   "outputs": [
    {
     "name": "stdout",
     "output_type": "stream",
     "text": [
      "[[11 12 13]\n",
      " [14 15 16]]\n",
      "\n",
      "[11 12 13]\n",
      "\n",
      "12\n"
     ]
    }
   ],
   "source": [
    "# To access an array element\n",
    "arr1 = np.array([[[1,2,3],[4,5,6]],[[11,12,13],[14,15,16]],[[21,22,23],[24,25,26]]])\n",
    "print(arr1[1])\n",
    "print()\n",
    "print(arr1[1,0])\n",
    "print()\n",
    "print(arr1[1,0,1])"
   ]
  },
  {
   "cell_type": "code",
   "execution_count": 13,
   "id": "2ce5c35a",
   "metadata": {},
   "outputs": [
    {
     "name": "stdout",
     "output_type": "stream",
     "text": [
      "[14 15 16]\n"
     ]
    }
   ],
   "source": [
    "# To access an array element\n",
    "arr1 = np.array([[[1,2,3],[4,5,6]],[[11,12,13],[14,15,16]],[[21,22,23],[24,25,26]]])\n",
    "print(arr1[1,-1])"
   ]
  },
  {
   "cell_type": "markdown",
   "id": "3b00fb54",
   "metadata": {},
   "source": [
    "## Slicing"
   ]
  },
  {
   "cell_type": "code",
   "execution_count": 14,
   "id": "a3f44e05",
   "metadata": {},
   "outputs": [
    {
     "name": "stdout",
     "output_type": "stream",
     "text": [
      "[0 1 2 3 4 5 6 7 8 9]\n",
      "\n",
      "[0 1 2 3]\n",
      "[5 6 7 8]\n"
     ]
    }
   ],
   "source": [
    "arr1 = np.arange(10)\n",
    "print(arr1)\n",
    "print()\n",
    "print(arr1[0:4])\n",
    "print(arr1[5:-1])"
   ]
  },
  {
   "cell_type": "code",
   "execution_count": 15,
   "id": "adf01f01",
   "metadata": {},
   "outputs": [
    {
     "name": "stdout",
     "output_type": "stream",
     "text": [
      "[0 1 2 3 4 5 6 7 8 9]\n",
      "\n",
      "[9]\n",
      "[4 5 6 7 8 9]\n"
     ]
    }
   ],
   "source": [
    "arr1 = np.arange(10)\n",
    "print(arr1)\n",
    "print()\n",
    "print(arr1[-1:])\n",
    "print(arr1[4:])"
   ]
  },
  {
   "cell_type": "code",
   "execution_count": 16,
   "id": "c9cd0207",
   "metadata": {},
   "outputs": [
    {
     "name": "stdout",
     "output_type": "stream",
     "text": [
      "[ 10.  20.  30.  40.  50.  60.  70.  80.  90. 100.]\n",
      "\n",
      "[10. 20. 30. 40.]\n",
      "[ 60.  70.  80.  90. 100.]\n",
      "[50.]\n",
      "[ 10.  20.  30.  40.  60.  70.  80.  90. 100.]\n"
     ]
    }
   ],
   "source": [
    "arr1 = np.linspace(10, 100, 10)\n",
    "print(arr1)\n",
    "print()\n",
    "print(arr1[arr1<50])\n",
    "print(arr1[arr1>50])\n",
    "print(arr1[arr1==50])\n",
    "print(arr1[arr1!=50])"
   ]
  },
  {
   "cell_type": "code",
   "execution_count": 17,
   "id": "7094bffb",
   "metadata": {},
   "outputs": [
    {
     "name": "stdout",
     "output_type": "stream",
     "text": [
      "[ 10.  20.  30.  40.  50.  60.  70.  80.  90. 100.]\n",
      "\n",
      "[False False False False False  True  True  True  True  True]\n",
      "[ 60.  70.  80.  90. 100.]\n",
      "\n",
      "[ True  True  True  True False False False False False False]\n",
      "[10. 20. 30. 40.]\n",
      "\n",
      "[False False False False  True False False False False False]\n",
      "[50.]\n"
     ]
    }
   ],
   "source": [
    "arr1 = np.linspace(10, 100, 10)\n",
    "print(arr1)\n",
    "print()\n",
    "index = (arr1 >50)\n",
    "print(index)\n",
    "print(arr1[index])\n",
    "print()\n",
    "index = (arr1 < 50)\n",
    "print(index)\n",
    "print(arr1[index])\n",
    "print()\n",
    "index = (arr1 == 50)\n",
    "print(index)\n",
    "print(arr1[index])"
   ]
  },
  {
   "cell_type": "code",
   "execution_count": 18,
   "id": "914a3d4b",
   "metadata": {},
   "outputs": [
    {
     "name": "stdout",
     "output_type": "stream",
     "text": [
      "[ 0  5 10 15 20 25 30 35 40 45 50 55 60 65 70 75 80 85 90 95]\n",
      "\n",
      "[80]\n",
      "\n",
      "[ 0 15 30 45 60 75 90]\n",
      "\n",
      "[ 5 10 20 25 35 40 50 55 65 70 80 85 95]\n"
     ]
    }
   ],
   "source": [
    "arr1 = np.arange(0, 100, 5)\n",
    "print(arr1)\n",
    "print()\n",
    "print(arr1[arr1==(30+50)])\n",
    "print()\n",
    "print(arr1[arr1%15==0])\n",
    "print()\n",
    "print(arr1[arr1%15!=0])"
   ]
  },
  {
   "cell_type": "code",
   "execution_count": 19,
   "id": "50aac49e",
   "metadata": {},
   "outputs": [
    {
     "name": "stdout",
     "output_type": "stream",
     "text": [
      "[ 0  5 10 15 20 25 30 35 40 45 50 55 60 65 70 75 80 85 90 95]\n",
      "\n",
      "[ 0 15 30 45 60 75 90]\n",
      "\n",
      "[60 75 90]\n"
     ]
    }
   ],
   "source": [
    "arr1 = np.arange(0, 100, 5)\n",
    "print(arr1)\n",
    "print()\n",
    "print(arr1[arr1%15==0])\n",
    "print()\n",
    "print(arr1[(arr1%15==0) & (arr1>50)])"
   ]
  },
  {
   "cell_type": "code",
   "execution_count": 20,
   "id": "c125f118",
   "metadata": {},
   "outputs": [
    {
     "name": "stdout",
     "output_type": "stream",
     "text": [
      "[ 0  5 10 15 20 25 30 35 40 45 50 55 60 65 70 75 80 85 90 95]\n",
      "\n",
      "[ 0 15 30 45 60 75 90]\n",
      "\n",
      "[85 90 95]\n",
      "\n",
      "[ 0 15 30 45 60 75 85 90 95]\n"
     ]
    }
   ],
   "source": [
    "arr1 = np.arange(0, 100, 5)\n",
    "print(arr1)\n",
    "print()\n",
    "print(arr1[arr1%15==0])\n",
    "print()\n",
    "print(arr1[arr1>80])\n",
    "print()\n",
    "print(arr1[(arr1%15==0) | (arr1>80)])"
   ]
  },
  {
   "cell_type": "markdown",
   "id": "2b1ad8fd",
   "metadata": {},
   "source": [
    "## Some basic methods to create array in numpy are\n",
    "1. np.array()\n",
    "2. np.ones()\n",
    "3. np.zeros()\n",
    "4. np.empty()\n",
    "5. np.linspace()\n",
    "5. np.arange()"
   ]
  },
  {
   "cell_type": "code",
   "execution_count": 21,
   "id": "c8add815",
   "metadata": {},
   "outputs": [
    {
     "name": "stdout",
     "output_type": "stream",
     "text": [
      "[2 3 4] [10. 11. 12.] 9\n",
      "True\n"
     ]
    }
   ],
   "source": [
    "# Create an array using np.array\n",
    "arr1 = np.array([2,3,4], dtype=np.int16)\n",
    "arr2 = np.array([10, 11, 12], dtype=np.float32)\n",
    "arr3 = np.array(9)\n",
    "print(arr1, arr2, arr3)\n",
    "\n",
    "# Check a variable an instance of an array\n",
    "print(isinstance(arr3, np.ndarray))"
   ]
  },
  {
   "cell_type": "code",
   "execution_count": 22,
   "id": "0618af3a",
   "metadata": {},
   "outputs": [
    {
     "name": "stdout",
     "output_type": "stream",
     "text": [
      "[1. 1. 1. 1.] float64\n",
      "[1 1 1 1] int16\n",
      "[[1 1 1]\n",
      " [1 1 1]\n",
      " [1 1 1]]\n"
     ]
    }
   ],
   "source": [
    "# Create an array of ones using np.ones() method\n",
    "\n",
    "arr1 = np.ones(4)\n",
    "print(arr1, arr1.dtype)\n",
    "\n",
    "arr2 = np.ones(4, dtype=np.int16)\n",
    "print(arr2, arr2.dtype)\n",
    "\n",
    "arr3 = np.ones((3,3), dtype=np.int16)\n",
    "print(arr3)"
   ]
  },
  {
   "cell_type": "code",
   "execution_count": 23,
   "id": "2f3f4780",
   "metadata": {},
   "outputs": [
    {
     "name": "stdout",
     "output_type": "stream",
     "text": [
      "[0. 0. 0. 0.] float64\n",
      "[0 0 0 0] int16\n",
      "[[0 0 0]\n",
      " [0 0 0]\n",
      " [0 0 0]]\n"
     ]
    }
   ],
   "source": [
    "# Create an array of zeros using np.zeros() method\n",
    "\n",
    "arr1 = np.zeros(4)\n",
    "print(arr1, arr1.dtype)\n",
    "\n",
    "arr2 = np.zeros(4, dtype=np.int16)\n",
    "print(arr2, arr2.dtype)\n",
    "\n",
    "arr3 = np.zeros((3,3), dtype=np.int16)\n",
    "print(arr3)"
   ]
  },
  {
   "cell_type": "code",
   "execution_count": 24,
   "id": "14424216",
   "metadata": {},
   "outputs": [
    {
     "name": "stdout",
     "output_type": "stream",
     "text": [
      "[0. 0. 0. 0.] float64\n",
      "[0 0 0 0] int16\n",
      "[[1 1 1]\n",
      " [1 1 1]\n",
      " [1 1 1]]\n"
     ]
    }
   ],
   "source": [
    "# Create an array of random elements using np.empty() method\n",
    "# The function empty creates an array whose initial content \n",
    "# is random and depends on the state of the memory.\n",
    "\n",
    "arr1 = np.empty(4)\n",
    "print(arr1, arr1.dtype)\n",
    "\n",
    "arr2 = np.empty(4, dtype=np.int16)\n",
    "print(arr2, arr2.dtype)\n",
    "\n",
    "arr3 = np.empty((3,3), dtype=np.int16)\n",
    "print(arr3)"
   ]
  },
  {
   "cell_type": "code",
   "execution_count": 25,
   "id": "ead4ee41",
   "metadata": {},
   "outputs": [
    {
     "name": "stdout",
     "output_type": "stream",
     "text": [
      "[ 1  2  3  4  5  6  7  8  9 10]\n",
      "[11.   11.45 11.9  12.35 12.8  13.25 13.7  14.15 14.6  15.05 15.5  15.95\n",
      " 16.4  16.85 17.3  17.75 18.2  18.65 19.1  19.55 20.  ]\n",
      "Length of array is: 21\n"
     ]
    }
   ],
   "source": [
    "# Create an array with elements whose values are spaced linearly in \n",
    "# a user specified interval\n",
    "# np.linspace(start, end, numberOfElements)\n",
    "\n",
    "arr1 = np.linspace(1, 10, 10, dtype=np.int16)\n",
    "print(arr1)\n",
    "\n",
    "arr2 = np.linspace(11, 20, 21)\n",
    "print(arr2)\n",
    "print(\"Length of array is:\", len(arr2))"
   ]
  },
  {
   "cell_type": "code",
   "execution_count": 26,
   "id": "d8356f97",
   "metadata": {},
   "outputs": [
    {
     "name": "stdout",
     "output_type": "stream",
     "text": [
      "[0 1 2 3 4 5 6 7 8 9]\n",
      "[4 5 6 7 8 9]\n",
      "[ 4  7 10 13 16 19]\n"
     ]
    }
   ],
   "source": [
    "# To create an array within a user specified range\n",
    "# use np.arange() method, stop element is excluded\n",
    "# np.arange(start, stop, step)\n",
    "\n",
    "arr1 = np.arange(10)\n",
    "print(arr1)\n",
    "\n",
    "arr2 = np.arange(4, 10)\n",
    "print(arr2)\n",
    "\n",
    "arr2 = np.arange(4, 20, 3)\n",
    "print(arr2)"
   ]
  },
  {
   "cell_type": "markdown",
   "id": "ef3c1a2d",
   "metadata": {},
   "source": [
    "## Add, Remove, Sort Elements in an array"
   ]
  },
  {
   "cell_type": "markdown",
   "id": "739990d3",
   "metadata": {},
   "source": [
    "### Add arrays using concatenation"
   ]
  },
  {
   "cell_type": "code",
   "execution_count": 27,
   "id": "3ef5f9f4",
   "metadata": {},
   "outputs": [
    {
     "name": "stdout",
     "output_type": "stream",
     "text": [
      "[1 2 3 4 5 6 7 8]\n"
     ]
    }
   ],
   "source": [
    "# Add two array use np.concatenate()\n",
    "# numpy.concatenate((a1, a2, ...), axis=0, out=None, dtpe,...)\n",
    "\n",
    "arr1 = np.array([1,2,3,4])\n",
    "arr2 = np.array([5,6,7,8])\n",
    "arr3 = np.concatenate((arr1,arr2)) \n",
    "print(arr3)"
   ]
  },
  {
   "cell_type": "code",
   "execution_count": 28,
   "id": "edab3e98",
   "metadata": {},
   "outputs": [
    {
     "name": "stdout",
     "output_type": "stream",
     "text": [
      "[[ 1  2  3  4]\n",
      " [10 11 12 13]]\n",
      "\n",
      "[[ 5  6  7  8]\n",
      " [15 16 17 18]]\n",
      "\n",
      "Adding above arrays (axis is default, 0) gives\n",
      "[[ 1  2  3  4]\n",
      " [10 11 12 13]\n",
      " [ 5  6  7  8]\n",
      " [15 16 17 18]]\n"
     ]
    }
   ],
   "source": [
    "arr1 = np.array([[1,2,3,4],[10, 11, 12, 13]])\n",
    "arr2 = np.array([[5,6,7,8],[15,16,17,18]])\n",
    "print(arr1)\n",
    "print()\n",
    "print(arr2)\n",
    "print()\n",
    "print(\"Adding above arrays (axis is default, 0) gives\")\n",
    "arr3 = np.concatenate((arr1, arr2))\n",
    "print(arr3)"
   ]
  },
  {
   "cell_type": "code",
   "execution_count": 29,
   "id": "3b16de86",
   "metadata": {},
   "outputs": [
    {
     "name": "stdout",
     "output_type": "stream",
     "text": [
      "[[ 1  2  3  4]\n",
      " [10 11 12 13]]\n",
      "\n",
      "[[ 5  6  7  8]\n",
      " [15 16 17 18]]\n",
      "\n",
      "Adding above arrays with axis set to None gives\n",
      "[ 1  2  3  4 10 11 12 13  5  6  7  8 15 16 17 18]\n",
      "True\n"
     ]
    }
   ],
   "source": [
    "# Add two array use np.concatenate()\n",
    "# If axis is None, arrays are flattened before use\n",
    "\n",
    "arr1 = np.array([[1,2,3,4],[10, 11, 12, 13]])\n",
    "arr2 = np.array([[5,6,7,8],[15,16,17,18]])\n",
    "print(arr1)\n",
    "print()\n",
    "print(arr2)\n",
    "print()\n",
    "print(\"Adding above arrays with axis set to None gives\")\n",
    "arr3 = np.concatenate((arr1, arr2), axis=None)\n",
    "print(arr3)\n",
    "print(isinstance(arr3, np.ndarray))"
   ]
  },
  {
   "cell_type": "code",
   "execution_count": 30,
   "id": "ed65345b",
   "metadata": {},
   "outputs": [
    {
     "name": "stdout",
     "output_type": "stream",
     "text": [
      "[[ 1  2  3  4]\n",
      " [10 11 12 13]]\n",
      "\n",
      "[[ 5  6  7  8]\n",
      " [15 16 17 18]]\n",
      "\n",
      "Adding above arrays with axis set to 1 gives\n",
      "[[ 1  2  3  4  5  6  7  8]\n",
      " [10 11 12 13 15 16 17 18]]\n"
     ]
    }
   ],
   "source": [
    "# Add two array use np.concatenate()\n",
    "# If axis is None, arrays are flattened before use\n",
    "\n",
    "arr1 = np.array([[1,2,3,4],[10, 11, 12, 13]])\n",
    "arr2 = np.array([[5,6,7,8],[15,16,17,18]])\n",
    "print(arr1)\n",
    "print()\n",
    "print(arr2)\n",
    "print()\n",
    "print(\"Adding above arrays with axis set to 1 gives\")\n",
    "arr3 = np.concatenate((arr1, arr2), axis=1)\n",
    "print(arr3)"
   ]
  },
  {
   "cell_type": "markdown",
   "id": "d7e7f840",
   "metadata": {},
   "source": [
    "### Remove elements from array using remove method"
   ]
  },
  {
   "cell_type": "code",
   "execution_count": 31,
   "id": "358076b5",
   "metadata": {},
   "outputs": [
    {
     "name": "stdout",
     "output_type": "stream",
     "text": [
      "[1 2 3 4 5] [1 2 3 5]\n"
     ]
    }
   ],
   "source": [
    "# Remove elements from array using delete method\n",
    "# np.delete(array, indexToRemove), index start with zero\n",
    "# A copy of arr with the elements specified by obj removed. \n",
    "# Delete does not occur in-place.\n",
    "\n",
    "arr1 = np.array([1,2,3,4,5])\n",
    "# Index 3 means 4th element \n",
    "arr2 = np.delete(arr1, 3)\n",
    "print(arr1, arr2)"
   ]
  },
  {
   "cell_type": "code",
   "execution_count": 32,
   "id": "eaf8cb1a",
   "metadata": {},
   "outputs": [
    {
     "name": "stdout",
     "output_type": "stream",
     "text": [
      "[1 2 3 4 5] [1 2 3 4]\n"
     ]
    }
   ],
   "source": [
    "# Remove elements from array using delete method\n",
    "\n",
    "arr1 = np.array([1,2,3,4,5])\n",
    "# -1 means last element\n",
    "arr2 = np.delete(arr1, -1) \n",
    "print(arr1, arr2)"
   ]
  },
  {
   "cell_type": "code",
   "execution_count": 33,
   "id": "71c950ff",
   "metadata": {},
   "outputs": [
    {
     "name": "stdout",
     "output_type": "stream",
     "text": [
      "[10 20 30 40 50] [10 20 40]\n"
     ]
    }
   ],
   "source": [
    "# Remove elements from array using delete method\n",
    "\n",
    "arr1 = np.array([10,20,30,40,50])\n",
    "# [2, 4] means elements at index 2 and 4\n",
    "# elements at position 3 and position 5\n",
    "arr2 = np.delete(arr1, [2,4]) \n",
    "print(arr1, arr2)"
   ]
  },
  {
   "cell_type": "code",
   "execution_count": 34,
   "id": "934570a4",
   "metadata": {},
   "outputs": [
    {
     "name": "stdout",
     "output_type": "stream",
     "text": [
      "[10 20 30 40 50] [10 20 40 50]\n"
     ]
    }
   ],
   "source": [
    "# Remove elements from array using delete method\n",
    "\n",
    "arr1 = np.array([10,20,30,40,50])\n",
    "\n",
    "# Conditional deletion\n",
    "arr2 = np.delete(arr1, np.where(arr1==30)) \n",
    "print(arr1, arr2)"
   ]
  },
  {
   "cell_type": "code",
   "execution_count": 35,
   "id": "0d439167",
   "metadata": {},
   "outputs": [
    {
     "name": "stdout",
     "output_type": "stream",
     "text": [
      "[[3 2 5]\n",
      " [7 4 1]\n",
      " [6 5 4]]\n",
      "\n",
      "[[3 5]\n",
      " [7 1]\n",
      " [6 4]]\n",
      "\n",
      "[[2 5]\n",
      " [4 1]\n",
      " [5 4]]\n"
     ]
    }
   ],
   "source": [
    "# Remove elements from array using delete method\n",
    "# Delete columns (axis = 1)\n",
    "arr1 = np.array([[3,2,5], [7,4,1], [6,5,4]])\n",
    "print(arr1)\n",
    "\n",
    "print()\n",
    "# Delete the column at the 1st index\n",
    "arr2 = np.delete(arr1, 1, axis=1) \n",
    "print(arr2)\n",
    "\n",
    "print()\n",
    "# Delete the column at the 0st index\n",
    "arr2 = np.delete(arr1, 0, axis=1) \n",
    "print(arr2)"
   ]
  },
  {
   "cell_type": "code",
   "execution_count": 36,
   "id": "46c2c7ce",
   "metadata": {},
   "outputs": [
    {
     "name": "stdout",
     "output_type": "stream",
     "text": [
      "[[3 2 5]\n",
      " [7 4 1]\n",
      " [6 5 4]]\n",
      "\n",
      "[[3 2 5]\n",
      " [6 5 4]]\n",
      "\n",
      "[[7 4 1]\n",
      " [6 5 4]]\n",
      "\n",
      "[[7 4 1]]\n"
     ]
    }
   ],
   "source": [
    "# Remove elements from array using delete method\n",
    "# Delete array (axis = 0)\n",
    "arr1 = np.array([[3,2,5], [7,4,1], [6,5,4]])\n",
    "print(arr1)\n",
    "\n",
    "print()\n",
    "# Delete the 0th row\n",
    "arr2 = np.delete(arr1, 1, axis=0) \n",
    "print(arr2)\n",
    "\n",
    "print()\n",
    "# Delete the first row\n",
    "arr2 = np.delete(arr1, 0, axis=0) \n",
    "print(arr2)\n",
    "\n",
    "print()\n",
    "# Delete the 0th and 2nd rows\n",
    "arr2 = np.delete(arr1, [0,2], axis=0) \n",
    "print(arr2)"
   ]
  },
  {
   "cell_type": "markdown",
   "id": "e7898528",
   "metadata": {},
   "source": [
    "### Sort elements using the sort method"
   ]
  },
  {
   "cell_type": "code",
   "execution_count": 37,
   "id": "4e5c0d79",
   "metadata": {},
   "outputs": [
    {
     "name": "stdout",
     "output_type": "stream",
     "text": [
      "Array before sorting: [3 1 9 5 4 6 8 2 7]\n",
      "Array after sorting: [1 2 3 4 5 6 7 8 9]\n",
      "Check the sort is permanent:  [3 1 9 5 4 6 8 2 7]\n"
     ]
    }
   ],
   "source": [
    "# Sort an array in numpy using sort method\n",
    "# numpy.sort(a, axis=-1, kind=None, order=None)\n",
    "# Sort method returns a copy of the array, original array is unchanged\n",
    "\n",
    "arr1 = np.array([3,1,9,5,4,6,8,2,7])\n",
    "print(\"Array before sorting:\", arr1)\n",
    "\n",
    "print(\"Array after sorting:\", np.sort(arr1))\n",
    "\n",
    "print(\"Check the sort is permanent: \", arr1)"
   ]
  },
  {
   "cell_type": "code",
   "execution_count": 38,
   "id": "9efc7a72",
   "metadata": {},
   "outputs": [
    {
     "name": "stdout",
     "output_type": "stream",
     "text": [
      "[[2 3 5]\n",
      " [1 4 7]\n",
      " [4 5 6]]\n",
      "\n",
      "[[2 3 5]\n",
      " [1 4 7]\n",
      " [4 5 6]]\n",
      "\n",
      "[1 2 3 4 4 5 5 6 7]\n",
      "\n",
      "[[3 2 1]\n",
      " [6 4 4]\n",
      " [7 5 5]]\n",
      "\n"
     ]
    }
   ],
   "source": [
    "# Axis along which to sort. If None, the array is flattened before sorting. \n",
    "# The default is -1, which sorts along the last axis.\n",
    "\n",
    "arr1 = np.array([[3,2,5], [7,4,1], [6,5,4]])\n",
    "print(np.sort(arr1))\n",
    "print()\n",
    "\n",
    "arr1 = np.array([[3,2,5], [7,4,1], [6,5,4]])\n",
    "print(np.sort(arr1, axis=-1))\n",
    "print()\n",
    "\n",
    "arr1 = np.array([[3,2,5], [7,4,1], [6,5,4]])\n",
    "print(np.sort(arr1, axis=None))\n",
    "print()\n",
    "\n",
    "# Sort done on the column\n",
    "arr1 = np.array([[3,2,5], [7,4,1], [6,5,4]])\n",
    "print(np.sort(arr1, axis=0))\n",
    "print()\n"
   ]
  },
  {
   "cell_type": "markdown",
   "id": "8709ee44",
   "metadata": {},
   "source": [
    "### Sum"
   ]
  },
  {
   "cell_type": "code",
   "execution_count": 39,
   "id": "8d3456c1",
   "metadata": {},
   "outputs": [
    {
     "name": "stdout",
     "output_type": "stream",
     "text": [
      "[]\n",
      "Sum = 0.0\n",
      "\n",
      "[[3 2 5]\n",
      " [7 4 1]\n",
      " [6 5 4]]\n",
      "Sum = 37\n"
     ]
    }
   ],
   "source": [
    "arr1 = []\n",
    "print(arr1)\n",
    "print(\"Sum =\",np.sum(arr1))\n",
    "print()\n",
    "arr1 = np.array([[3,2,5], [7,4,1], [6,5,4]])\n",
    "print(arr1)\n",
    "print(\"Sum =\",np.sum(arr1))"
   ]
  },
  {
   "cell_type": "code",
   "execution_count": 40,
   "id": "f94b95cd",
   "metadata": {},
   "outputs": [
    {
     "name": "stdout",
     "output_type": "stream",
     "text": [
      "[[[ 1  2  3]\n",
      "  [ 4  5  6]]\n",
      "\n",
      " [[11 12 13]\n",
      "  [14 15 16]]\n",
      "\n",
      " [[21 22 23]\n",
      "  [24 25 26]]]\n",
      "\n",
      "Sum = 243\n"
     ]
    }
   ],
   "source": [
    "arr1 = np.array([[[1,2,3],[4,5,6]],[[11,12,13],[14,15,16]],[[21,22,23],[24,25,26]]])\n",
    "print(arr1)\n",
    "print()\n",
    "print(\"Sum =\",np.sum(arr1))"
   ]
  },
  {
   "cell_type": "code",
   "execution_count": 41,
   "id": "e79dc884",
   "metadata": {},
   "outputs": [
    {
     "name": "stdout",
     "output_type": "stream",
     "text": [
      "[[[ 1  2  3]\n",
      "  [ 4  5  6]]\n",
      "\n",
      " [[11 12 13]\n",
      "  [14 15 16]]\n",
      "\n",
      " [[21 22 23]\n",
      "  [24 25 26]]]\n",
      "\n",
      "Sum = 243\n",
      "\n",
      "Sum = [[33 36 39]\n",
      " [42 45 48]]\n",
      "\n",
      "Sum = [[ 5  7  9]\n",
      " [25 27 29]\n",
      " [45 47 49]]\n"
     ]
    }
   ],
   "source": [
    "arr1 = np.array([[[1,2,3],[4,5,6]],[[11,12,13],[14,15,16]],[[21,22,23],[24,25,26]]])\n",
    "print(arr1)\n",
    "print()\n",
    "print(\"Sum =\",np.sum(arr1))\n",
    "print()\n",
    "print(\"Sum =\",np.sum(arr1, axis=0))\n",
    "print()\n",
    "print(\"Sum =\",np.sum(arr1, axis=1))"
   ]
  },
  {
   "cell_type": "markdown",
   "id": "6dcee957",
   "metadata": {},
   "source": [
    "### Max"
   ]
  },
  {
   "cell_type": "code",
   "execution_count": 42,
   "id": "2b81d8a0",
   "metadata": {},
   "outputs": [
    {
     "name": "stdout",
     "output_type": "stream",
     "text": [
      "[[3 2 5]\n",
      " [7 4 1]\n",
      " [6 5 4]]\n",
      "Max = 7\n"
     ]
    }
   ],
   "source": [
    "arr1 = np.array([[3,2,5], [7,4,1], [6,5,4]])\n",
    "print(arr1)\n",
    "print(\"Max =\",np.max(arr1))"
   ]
  },
  {
   "cell_type": "code",
   "execution_count": 43,
   "id": "b017bc89",
   "metadata": {},
   "outputs": [
    {
     "name": "stdout",
     "output_type": "stream",
     "text": [
      "[[[ 1  2  3]\n",
      "  [ 4  5  6]]\n",
      "\n",
      " [[11 12 13]\n",
      "  [14 15 16]]\n",
      "\n",
      " [[21 22 23]\n",
      "  [24 25 26]]]\n",
      "\n",
      "Max = 26\n"
     ]
    }
   ],
   "source": [
    "arr1 = np.array([[[1,2,3],[4,5,6]],[[11,12,13],[14,15,16]],[[21,22,23],[24,25,26]]])\n",
    "print(arr1)\n",
    "print()\n",
    "print(\"Max =\",np.max(arr1))"
   ]
  },
  {
   "cell_type": "code",
   "execution_count": 44,
   "id": "ac3b3530",
   "metadata": {},
   "outputs": [
    {
     "name": "stdout",
     "output_type": "stream",
     "text": [
      "[[[ 1 12  3]\n",
      "  [14  5  6]]\n",
      "\n",
      " [[11  2  3]\n",
      "  [ 4  5 16]]]\n",
      "\n",
      "Max = [[11 12  3]\n",
      " [14  5 16]]\n",
      "\n",
      "Max = [[14 12  6]\n",
      " [11  5 16]]\n"
     ]
    }
   ],
   "source": [
    "arr1 = np.array([[[1,12,3],[14,5,6]],[[11,2,3],[4,5,16]]])\n",
    "print(arr1)\n",
    "print()\n",
    "print(\"Max =\",np.max(arr1, axis=0))\n",
    "print()\n",
    "print(\"Max =\",np.max(arr1, axis=1))"
   ]
  },
  {
   "cell_type": "code",
   "execution_count": 45,
   "id": "2c282c08",
   "metadata": {},
   "outputs": [
    {
     "name": "stdout",
     "output_type": "stream",
     "text": [
      "[[[ 1 12  3]\n",
      "  [ 4  5  6]]\n",
      "\n",
      " [[11 12 13]\n",
      "  [ 4  5 16]]\n",
      "\n",
      " [[21 22 23]\n",
      "  [ 4 25  6]]]\n",
      "\n",
      "Max = [[21 22 23]\n",
      " [ 4 25 16]]\n",
      "\n",
      "Max = [[ 4 12  6]\n",
      " [11 12 16]\n",
      " [21 25 23]]\n"
     ]
    }
   ],
   "source": [
    "arr1 = np.array([[[1,12,3],[4,5,6]],[[11,12,13],[4,5,16]],[[21,22,23],[4,25,6]]])\n",
    "print(arr1)\n",
    "print()\n",
    "print(\"Max =\",np.max(arr1, axis=0))\n",
    "print()\n",
    "print(\"Max =\",np.max(arr1, axis=1))"
   ]
  },
  {
   "cell_type": "markdown",
   "id": "c1f87ac3",
   "metadata": {},
   "source": [
    "### Min"
   ]
  },
  {
   "cell_type": "code",
   "execution_count": 46,
   "id": "165a476d",
   "metadata": {},
   "outputs": [
    {
     "name": "stdout",
     "output_type": "stream",
     "text": [
      "[[3 2 5]\n",
      " [7 4 1]\n",
      " [6 5 4]]\n",
      "Min = 1\n"
     ]
    }
   ],
   "source": [
    "arr1 = np.array([[3,2,5], [7,4,1], [6,5,4]])\n",
    "print(arr1)\n",
    "print(\"Min =\",np.min(arr1))"
   ]
  },
  {
   "cell_type": "code",
   "execution_count": 47,
   "id": "ed3e28f2",
   "metadata": {},
   "outputs": [
    {
     "name": "stdout",
     "output_type": "stream",
     "text": [
      "[[[100  20  30]\n",
      "  [ 40  50  60]]\n",
      "\n",
      " [[ 11  12  13]\n",
      "  [ 14  15  16]]\n",
      "\n",
      " [[ 21  22  23]\n",
      "  [ 24  25  26]]]\n",
      "\n",
      "Min = 11\n"
     ]
    }
   ],
   "source": [
    "arr1 = np.array([[[100,20,30],[40,50,60]],[[11,12,13],[14,15,16]],[[21,22,23],[24,25,26]]])\n",
    "print(arr1)\n",
    "print()\n",
    "print(\"Min =\",np.min(arr1))"
   ]
  },
  {
   "cell_type": "code",
   "execution_count": 48,
   "id": "fdb32ddc",
   "metadata": {},
   "outputs": [
    {
     "name": "stdout",
     "output_type": "stream",
     "text": [
      "[[[ 1 12  3]\n",
      "  [14  5  6]]\n",
      "\n",
      " [[11  2  3]\n",
      "  [ 4  5 16]]]\n",
      "\n",
      "Min = [[1 2 3]\n",
      " [4 5 6]]\n",
      "\n",
      "Min = [[1 5 3]\n",
      " [4 2 3]]\n"
     ]
    }
   ],
   "source": [
    "arr1 = np.array([[[1,12,3],[14,5,6]],[[11,2,3],[4,5,16]]])\n",
    "print(arr1)\n",
    "print()\n",
    "print(\"Min =\",np.min(arr1, axis=0))\n",
    "print()\n",
    "print(\"Min =\",np.min(arr1, axis=1))"
   ]
  },
  {
   "cell_type": "code",
   "execution_count": 49,
   "id": "0591b37c",
   "metadata": {},
   "outputs": [
    {
     "name": "stdout",
     "output_type": "stream",
     "text": [
      "[[[ 1 12  3]\n",
      "  [ 4  5  6]]\n",
      "\n",
      " [[11 12 13]\n",
      "  [ 4  5 16]]\n",
      "\n",
      " [[21 22 23]\n",
      "  [ 4 25  6]]]\n",
      "\n",
      "Min = [[ 1 12  3]\n",
      " [ 4  5  6]]\n",
      "\n",
      "Min = [[ 1  5  3]\n",
      " [ 4  5 13]\n",
      " [ 4 22  6]]\n"
     ]
    }
   ],
   "source": [
    "arr1 = np.array([[[1,12,3],[4,5,6]],[[11,12,13],[4,5,16]],[[21,22,23],[4,25,6]]])\n",
    "print(arr1)\n",
    "print()\n",
    "print(\"Min =\",np.min(arr1, axis=0))\n",
    "print()\n",
    "print(\"Min =\",np.min(arr1, axis=1))"
   ]
  },
  {
   "cell_type": "markdown",
   "id": "a72b0e87",
   "metadata": {},
   "source": [
    "### Average"
   ]
  },
  {
   "cell_type": "code",
   "execution_count": 50,
   "id": "3e84a4e9",
   "metadata": {},
   "outputs": [
    {
     "name": "stdout",
     "output_type": "stream",
     "text": [
      "[[3 2 4]\n",
      " [7 4 1]\n",
      " [6 5 4]]\n",
      "Average = 4.0\n"
     ]
    }
   ],
   "source": [
    "arr1 = np.array([[3,2,4], [7,4,1], [6,5,4]])\n",
    "print(arr1)\n",
    "print(\"Average =\",np.average(arr1))"
   ]
  },
  {
   "cell_type": "code",
   "execution_count": 51,
   "id": "c0978d0b",
   "metadata": {},
   "outputs": [
    {
     "name": "stdout",
     "output_type": "stream",
     "text": [
      "[[[100  20  30]\n",
      "  [ 40  50  60]]\n",
      "\n",
      " [[ 11  12  13]\n",
      "  [ 14  15  16]]\n",
      "\n",
      " [[ 21  22  23]\n",
      "  [ 24  25  26]]]\n",
      "\n",
      "Average = 29.0\n"
     ]
    }
   ],
   "source": [
    "arr1 = np.array([[[100,20,30],[40,50,60]],[[11,12,13],[14,15,16]],[[21,22,23],[24,25,26]]])\n",
    "print(arr1)\n",
    "print()\n",
    "print(\"Average =\",np.average(arr1))"
   ]
  },
  {
   "cell_type": "code",
   "execution_count": 52,
   "id": "1a404780",
   "metadata": {},
   "outputs": [
    {
     "name": "stdout",
     "output_type": "stream",
     "text": [
      "[[[ 1 12  3]\n",
      "  [14  5  6]]\n",
      "\n",
      " [[11  2  3]\n",
      "  [ 4  5 16]]]\n",
      "\n",
      "Average = [[ 6.  7.  3.]\n",
      " [ 9.  5. 11.]]\n",
      "\n",
      "Average = [[7.5 8.5 4.5]\n",
      " [7.5 3.5 9.5]]\n"
     ]
    }
   ],
   "source": [
    "arr1 = np.array([[[1,12,3],[14,5,6]],[[11,2,3],[4,5,16]]])\n",
    "print(arr1)\n",
    "print()\n",
    "print(\"Average =\",np.average(arr1, axis=0))\n",
    "print()\n",
    "print(\"Average =\",np.average(arr1, axis=1))"
   ]
  },
  {
   "cell_type": "code",
   "execution_count": 53,
   "id": "62ed8d99",
   "metadata": {},
   "outputs": [
    {
     "name": "stdout",
     "output_type": "stream",
     "text": [
      "[[[ 1 12  3]\n",
      "  [ 4  5  6]]\n",
      "\n",
      " [[11 12 13]\n",
      "  [ 4  5 16]]\n",
      "\n",
      " [[21 22 23]\n",
      "  [ 4 25  6]]]\n",
      "\n",
      "Average = [[11.         15.33333333 13.        ]\n",
      " [ 4.         11.66666667  9.33333333]]\n",
      "\n",
      "Average = [[ 2.5  8.5  4.5]\n",
      " [ 7.5  8.5 14.5]\n",
      " [12.5 23.5 14.5]]\n"
     ]
    }
   ],
   "source": [
    "arr1 = np.array([[[1,12,3],[4,5,6]],[[11,12,13],[4,5,16]],[[21,22,23],[4,25,6]]])\n",
    "print(arr1)\n",
    "print()\n",
    "print(\"Average =\",np.average(arr1, axis=0))\n",
    "print()\n",
    "print(\"Average =\",np.average(arr1, axis=1))"
   ]
  },
  {
   "cell_type": "code",
   "execution_count": null,
   "id": "f6071905",
   "metadata": {},
   "outputs": [],
   "source": []
  }
 ],
 "metadata": {
  "kernelspec": {
   "display_name": "Python 3 (ipykernel)",
   "language": "python",
   "name": "python3"
  },
  "language_info": {
   "codemirror_mode": {
    "name": "ipython",
    "version": 3
   },
   "file_extension": ".py",
   "mimetype": "text/x-python",
   "name": "python",
   "nbconvert_exporter": "python",
   "pygments_lexer": "ipython3",
   "version": "3.9.0"
  }
 },
 "nbformat": 4,
 "nbformat_minor": 5
}
